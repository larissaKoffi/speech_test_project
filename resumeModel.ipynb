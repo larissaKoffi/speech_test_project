{
  "cells": [
    {
      "cell_type": "code",
      "execution_count": null,
      "metadata": {
        "id": "G6UD0jCeSSXh"
      },
      "outputs": [],
      "source": [
        "#importation\n",
        "import fitz\n",
        "from transformers import BartForConditionalGeneration, BartTokenizer\n",
        "import textwrap"
      ]
    },
    {
      "cell_type": "code",
      "execution_count": null,
      "metadata": {
        "id": "jnoGeh6Kfi-L"
      },
      "outputs": [],
      "source": [
        "### 2. Prétraitement du texte (Python)\n",
        "def pretraiter_texte(texte):\n",
        "    # Exemple de prétraitement simple\n",
        "    texte = texte.strip()\n",
        "    texte = texte.replace('\\n', ' ')\n",
        "    return texte\n"
      ]
    },
    {
      "cell_type": "code",
      "execution_count": null,
      "metadata": {
        "id": "HmEAOUbwVBZP"
      },
      "outputs": [],
      "source": [
        "#extraire le texte des fichiers pdf\n",
        "def extract_text_from_pdf(pdf_path):\n",
        "    doc = fitz.open(pdf_path)\n",
        "    text = \"\"\n",
        "    for page_num in range(doc.page_count):\n",
        "        page = doc[page_num]\n",
        "        text += page.get_text()\n",
        "    doc.close()\n",
        "    return text"
      ]
    },
    {
      "cell_type": "code",
      "execution_count": null,
      "metadata": {
        "id": "60ASPFHtVYtm"
      },
      "outputs": [],
      "source": [
        "#générer le résumé avec le model bart\n",
        "def text_summarizer_from_pdf(pdf_path):\n",
        "    pdf_text = extract_text_from_pdf(pdf_path)\n",
        "\n",
        "    model_name = \"facebook/bart-large-cnn\"\n",
        "    model = BartForConditionalGeneration.from_pretrained(model_name)\n",
        "    tokenizer = BartTokenizer.from_pretrained(model_name)\n",
        "\n",
        "    inputs = tokenizer.encode(\"summarize: \" + pdf_text, return_tensors=\"pt\", max_length=1024, truncation=True)\n",
        "    summary_ids = model.generate(inputs, max_length=150, min_length=50, length_penalty=2.0, num_beams=4, early_stopping=True)\n",
        "\n",
        "    summary = tokenizer.decode(summary_ids[0], skip_special_tokens=True)\n",
        "    formatted_summary = \"\\n\".join(textwrap.wrap(summary, width=80))\n",
        "    return formatted_summary"
      ]
    },
    {
      "cell_type": "code",
      "execution_count": null,
      "metadata": {
        "id": "-jB_PMIUVwjZ"
      },
      "outputs": [],
      "source": [
        "#Enregistrement du résumé dans un autre PDF\n",
        "def save_summary_as_pdf(pdf_path, summary):\n",
        "    doc = fitz.open()\n",
        "\n",
        "    page = doc.new_page()\n",
        "    page.insert_text((10, 100), summary, fontname=\"helv\", fontsize=12)\n",
        "\n",
        "    output_pdf_path = pdf_path.replace(\".pdf\", \"_summary.pdf\")\n",
        "    doc.save(output_pdf_path)\n",
        "    doc.close()\n",
        "\n",
        "    return output_pdf_path"
      ]
    },
    {
      "cell_type": "code",
      "execution_count": null,
      "metadata": {
        "colab": {
          "base_uri": "https://localhost:8080/"
        },
        "id": "L4S4bcjMV3-Y",
        "outputId": "b1a1b7da-4aa2-4972-eb26-12be159d8749"
      },
      "outputs": [
        {
          "name": "stdout",
          "output_type": "stream",
          "text": [
            "Fichier PDF est un format de fichier informatique créé par Adobe Systems. Le PDF\n",
            "est consultable sur de très nombreux appareils communicants. Cette version est\n",
            "principallement utilisée dans l'industrie graphique.\n"
          ]
        }
      ],
      "source": [
        "pdf_file_path = \"pdf-exemple.pdf\"\n",
        "summary = text_summarizer_from_pdf(pdf_file_path)\n",
        "print(summary)\n",
        "#output_pdf_path = save_summary_as_pdf(pdf_file_path, summary)\n",
        "#print ( \"Résumé enregistré au format PDF :\" , output_pdf_path)"
      ]
    }
  ],
  "metadata": {
    "colab": {
      "provenance": []
    },
    "kernelspec": {
      "display_name": ".venv",
      "language": "python",
      "name": "python3"
    },
    "language_info": {
      "name": "python",
      "version": "3.10.12"
    }
  },
  "nbformat": 4,
  "nbformat_minor": 0
}
